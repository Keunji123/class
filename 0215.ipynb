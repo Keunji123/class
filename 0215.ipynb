{
  "nbformat": 4,
  "nbformat_minor": 0,
  "metadata": {
    "colab": {
      "provenance": [],
      "authorship_tag": "ABX9TyNk6uki+uB3amFtyYXCxrg8",
      "include_colab_link": true
    },
    "kernelspec": {
      "name": "python3",
      "display_name": "Python 3"
    },
    "language_info": {
      "name": "python"
    },
    "accelerator": "GPU",
    "gpuClass": "standard"
  },
  "cells": [
    {
      "cell_type": "markdown",
      "metadata": {
        "id": "view-in-github",
        "colab_type": "text"
      },
      "source": [
        "<a href=\"https://colab.research.google.com/github/Keunji123/class/blob/master/0215.ipynb\" target=\"_parent\"><img src=\"https://colab.research.google.com/assets/colab-badge.svg\" alt=\"Open In Colab\"/></a>"
      ]
    },
    {
      "cell_type": "code",
      "execution_count": 2,
      "metadata": {
        "id": "JgY4sy4YqMr-"
      },
      "outputs": [],
      "source": [
        "import tensorflow as tf\n",
        "import numpy as np"
      ]
    },
    {
      "cell_type": "code",
      "source": [
        "tf.config.list_physical_devices(\"GPU\")"
      ],
      "metadata": {
        "colab": {
          "base_uri": "https://localhost:8080/"
        },
        "id": "vwTxWC4Lqcw0",
        "outputId": "c84f6a8b-9b00-421b-fec5-ba9ef3bb3db8"
      },
      "execution_count": 3,
      "outputs": [
        {
          "output_type": "execute_result",
          "data": {
            "text/plain": [
              "[PhysicalDevice(name='/physical_device:GPU:0', device_type='GPU')]"
            ]
          },
          "metadata": {},
          "execution_count": 3
        }
      ]
    },
    {
      "cell_type": "markdown",
      "source": [
        "### Load MNIST DATASET"
      ],
      "metadata": {
        "id": "MU1fRO9jqner"
      }
    },
    {
      "cell_type": "code",
      "source": [
        "from tensorflow.keras.datasets import mnist"
      ],
      "metadata": {
        "id": "R1mgubv7qii-"
      },
      "execution_count": 4,
      "outputs": []
    },
    {
      "cell_type": "code",
      "source": [
        "(X_train, y_train), (X_test, y_test) = mnist.load_data()"
      ],
      "metadata": {
        "colab": {
          "base_uri": "https://localhost:8080/"
        },
        "id": "wokFWtAKqwXt",
        "outputId": "d7310d99-ca91-4699-8438-a6b563a07314"
      },
      "execution_count": 5,
      "outputs": [
        {
          "output_type": "stream",
          "name": "stdout",
          "text": [
            "Downloading data from https://storage.googleapis.com/tensorflow/tf-keras-datasets/mnist.npz\n",
            "11490434/11490434 [==============================] - 2s 0us/step\n"
          ]
        }
      ]
    },
    {
      "cell_type": "code",
      "source": [
        "X_train.shape, y_train.shape, X_test.shape, y_test.shape"
      ],
      "metadata": {
        "colab": {
          "base_uri": "https://localhost:8080/"
        },
        "id": "GquUyvz8q_uF",
        "outputId": "406641cb-4dd3-4d27-ab6b-9643f785d667"
      },
      "execution_count": 6,
      "outputs": [
        {
          "output_type": "execute_result",
          "data": {
            "text/plain": [
              "((60000, 28, 28), (60000,), (10000, 28, 28), (10000,))"
            ]
          },
          "metadata": {},
          "execution_count": 6
        }
      ]
    },
    {
      "cell_type": "code",
      "source": [
        "assert X_train.shape == (60000, 28, 28)"
      ],
      "metadata": {
        "id": "6YklqACTrHd0"
      },
      "execution_count": 7,
      "outputs": []
    },
    {
      "cell_type": "markdown",
      "source": [
        "### Preprocessing\n",
        "* 실수 범위가 너무 넓으면 잘 학습이 안된다..!  -> 정규화"
      ],
      "metadata": {
        "id": "SJrYA9MlrXj0"
      }
    },
    {
      "cell_type": "code",
      "source": [
        "X_train, X_test = X_train / 255, X_test / 255"
      ],
      "metadata": {
        "id": "RGLG1ngirPtq"
      },
      "execution_count": 8,
      "outputs": []
    },
    {
      "cell_type": "code",
      "source": [
        "sample = X_train[2255]\n",
        "\n",
        "print(\"answer:\", y_train[2255], '\\n')\n",
        "\n",
        "for i in range(sample.shape[0]):\n",
        "  print(''.join([\"1\" if j>0 else \"0\" for j in sample[i]]))"
      ],
      "metadata": {
        "colab": {
          "base_uri": "https://localhost:8080/"
        },
        "id": "JGzbHwnHr0st",
        "outputId": "bad31b9d-b2aa-402f-b2df-8cd4869d9f12"
      },
      "execution_count": 15,
      "outputs": [
        {
          "output_type": "stream",
          "name": "stdout",
          "text": [
            "answer: 1 \n",
            "\n",
            "0000000000000000000000000000\n",
            "0000000000000000000000000000\n",
            "0000000000000000000000000000\n",
            "0000000000000000000000000000\n",
            "0000000000000000000000000000\n",
            "0000000000001111000000000000\n",
            "0000000000001111000000000000\n",
            "0000000000001111100000000000\n",
            "0000000000000111100000000000\n",
            "0000000000000111100000000000\n",
            "0000000000000111100000000000\n",
            "0000000000000111100000000000\n",
            "0000000000000111100000000000\n",
            "0000000000000111100000000000\n",
            "0000000000000111100000000000\n",
            "0000000000001111000000000000\n",
            "0000000000001111000000000000\n",
            "0000000000001111000000000000\n",
            "0000000000001111000000000000\n",
            "0000000000001111000000000000\n",
            "0000000000001111000000000000\n",
            "0000000000001111000000000000\n",
            "0000000000000111100000000000\n",
            "0000000000000111110000000000\n",
            "0000000000000111110000000000\n",
            "0000000000000000000000000000\n",
            "0000000000000000000000000000\n",
            "0000000000000000000000000000\n"
          ]
        }
      ]
    },
    {
      "cell_type": "code",
      "source": [
        "sample.shape[0]"
      ],
      "metadata": {
        "colab": {
          "base_uri": "https://localhost:8080/"
        },
        "id": "tpJo0WSRSjQI",
        "outputId": "c0545afa-f1a7-4590-c8f6-aff9fc1dee0b"
      },
      "execution_count": 11,
      "outputs": [
        {
          "output_type": "execute_result",
          "data": {
            "text/plain": [
              "28"
            ]
          },
          "metadata": {},
          "execution_count": 11
        }
      ]
    },
    {
      "cell_type": "code",
      "source": [
        "sample[1]"
      ],
      "metadata": {
        "colab": {
          "base_uri": "https://localhost:8080/"
        },
        "id": "xY9aeBzfSyYB",
        "outputId": "b65b57c5-53c9-476d-d9f9-a7e595657ae5"
      },
      "execution_count": 12,
      "outputs": [
        {
          "output_type": "execute_result",
          "data": {
            "text/plain": [
              "array([0., 0., 0., 0., 0., 0., 0., 0., 0., 0., 0., 0., 0., 0., 0., 0., 0.,\n",
              "       0., 0., 0., 0., 0., 0., 0., 0., 0., 0., 0.])"
            ]
          },
          "metadata": {},
          "execution_count": 12
        }
      ]
    },
    {
      "cell_type": "code",
      "source": [
        "from tensorflow.keras.models import Sequential\n",
        "from tensorflow.keras import layers"
      ],
      "metadata": {
        "id": "i4ZQRkMgsUOB"
      },
      "execution_count": 13,
      "outputs": []
    },
    {
      "cell_type": "code",
      "source": [
        "model = Sequential()\n",
        "model.add(layers.Flatten(input_shape=(28, 28)))\n",
        "model.add(layers.Dense(128, activation = 'relu'))\n",
        "model.add(layers.Dense(64, activation = 'relu'))\n",
        "model.add(layers.Dense(10, activation = 'softmax'))\n",
        "\n",
        "model.summary()"
      ],
      "metadata": {
        "colab": {
          "base_uri": "https://localhost:8080/"
        },
        "id": "voCkmrunseDn",
        "outputId": "544fa8b6-b85e-4e93-8976-6315e93e73dd"
      },
      "execution_count": 15,
      "outputs": [
        {
          "output_type": "stream",
          "name": "stdout",
          "text": [
            "Model: \"sequential\"\n",
            "_________________________________________________________________\n",
            " Layer (type)                Output Shape              Param #   \n",
            "=================================================================\n",
            " flatten (Flatten)           (None, 784)               0         \n",
            "                                                                 \n",
            " dense (Dense)               (None, 128)               100480    \n",
            "                                                                 \n",
            " dense_1 (Dense)             (None, 64)                8256      \n",
            "                                                                 \n",
            " dense_2 (Dense)             (None, 10)                650       \n",
            "                                                                 \n",
            "=================================================================\n",
            "Total params: 109,386\n",
            "Trainable params: 109,386\n",
            "Non-trainable params: 0\n",
            "_________________________________________________________________\n"
          ]
        }
      ]
    },
    {
      "cell_type": "code",
      "source": [
        "model.compile(\n",
        "    optimizer = 'adam',\n",
        "    loss = 'sparse_categorical_crossentropy',\n",
        "    metrics = ['accuracy']\n",
        ")\n",
        "\n",
        "history = model.fit(\n",
        "    X_train,\n",
        "    y_train,\n",
        "    validation_split = 0.2,\n",
        "    batch_size = 32,\n",
        "    # validation_data = (X_test, y_test),\n",
        "    epochs = 5, \n",
        ")"
      ],
      "metadata": {
        "colab": {
          "base_uri": "https://localhost:8080/"
        },
        "id": "B6P-wHnLs_XI",
        "outputId": "1f245bd4-113f-4a2e-fbbb-80323cddc927"
      },
      "execution_count": 19,
      "outputs": [
        {
          "output_type": "stream",
          "name": "stdout",
          "text": [
            "Epoch 1/5\n",
            "1500/1500 [==============================] - 7s 4ms/step - loss: 0.0389 - accuracy: 0.9871 - val_loss: 0.1041 - val_accuracy: 0.9724\n",
            "Epoch 2/5\n",
            "1500/1500 [==============================] - 5s 3ms/step - loss: 0.0299 - accuracy: 0.9905 - val_loss: 0.1108 - val_accuracy: 0.9725\n",
            "Epoch 3/5\n",
            "1500/1500 [==============================] - 6s 4ms/step - loss: 0.0241 - accuracy: 0.9921 - val_loss: 0.1091 - val_accuracy: 0.9742\n",
            "Epoch 4/5\n",
            "1500/1500 [==============================] - 5s 3ms/step - loss: 0.0231 - accuracy: 0.9927 - val_loss: 0.1196 - val_accuracy: 0.9717\n",
            "Epoch 5/5\n",
            "1500/1500 [==============================] - 6s 4ms/step - loss: 0.0165 - accuracy: 0.9943 - val_loss: 0.1059 - val_accuracy: 0.9767\n"
          ]
        }
      ]
    },
    {
      "cell_type": "code",
      "source": [
        "_, acc = model.evaluate(X_test, y_test, verbose = 0)\n",
        "acc"
      ],
      "metadata": {
        "colab": {
          "base_uri": "https://localhost:8080/"
        },
        "id": "t54Tg869uKI_",
        "outputId": "2ad51b54-a1e6-4e09-cb4d-44fee4270653"
      },
      "execution_count": 20,
      "outputs": [
        {
          "output_type": "execute_result",
          "data": {
            "text/plain": [
              "0.978600025177002"
            ]
          },
          "metadata": {},
          "execution_count": 20
        }
      ]
    },
    {
      "cell_type": "code",
      "source": [
        "cifar10 = tf.keras.datasets.cifar10\n",
        "(X_train, y_train), (X_test, y_test) = cifar10.load_data()\n",
        "\n",
        "X_train.shape, y_train.shape, X_test.shape, y_test.shape"
      ],
      "metadata": {
        "colab": {
          "base_uri": "https://localhost:8080/"
        },
        "id": "FGtJi36qvWUQ",
        "outputId": "eefb0fe0-04d8-40a2-e197-7a26ece05f09"
      },
      "execution_count": 42,
      "outputs": [
        {
          "output_type": "execute_result",
          "data": {
            "text/plain": [
              "((50000, 32, 32, 3), (50000, 1), (10000, 32, 32, 3), (10000, 1))"
            ]
          },
          "metadata": {},
          "execution_count": 42
        }
      ]
    },
    {
      "cell_type": "code",
      "source": [
        "import matplotlib.pyplot as plt\n",
        "\n",
        "plt.imshow(X_train[0])"
      ],
      "metadata": {
        "colab": {
          "base_uri": "https://localhost:8080/",
          "height": 284
        },
        "id": "1ln_Ebsyv76t",
        "outputId": "2a106987-9f03-49b9-892a-2cc3c7835188"
      },
      "execution_count": 22,
      "outputs": [
        {
          "output_type": "execute_result",
          "data": {
            "text/plain": [
              "<matplotlib.image.AxesImage at 0x7fa853f45280>"
            ]
          },
          "metadata": {},
          "execution_count": 22
        },
        {
          "output_type": "display_data",
          "data": {
            "text/plain": [
              "<Figure size 432x288 with 1 Axes>"
            ],
            "image/png": "[encoded data removed]"
          },
          "metadata": {
            "needs_background": "light"
          }
        }
      ]
    },
    {
      "cell_type": "code",
      "source": [
        "model = tf.keras.Sequential([\n",
        "    tf.keras.layers.Flatten(input_shape = X_train.shape[1:]),\n",
        "    tf.keras.layers.Dense(1024, kernel_initializer = 'he_uniform'),\n",
        "    tf.keras.layers.BatchNormalization(),\n",
        "    tf.keras.layers.ReLU(),\n",
        "    tf.keras.layers.Dropout(0.5),\n",
        "    tf.keras.layers.Dense(256, kernel_initializer = 'he_uniform'),\n",
        "    tf.keras.layers.BatchNormalization(),\n",
        "    tf.keras.layers.ReLU(),\n",
        "    tf.keras.layers.Dropout(0.25),\n",
        "    tf.keras.layers.Dense(16, activation = 'relu', kernel_initializer = 'he_uniform'),\n",
        "    tf.keras.layers.Dropout(0.1),\n",
        "    tf.keras.layers.Dense(10, activation = 'softmax')\n",
        "\n",
        "    \n",
        "])"
      ],
      "metadata": {
        "id": "rd0VBoXCwDRw"
      },
      "execution_count": 25,
      "outputs": []
    },
    {
      "cell_type": "code",
      "source": [
        "X_train = X_train /255,\n",
        "X_test = X_test / 255"
      ],
      "metadata": {
        "id": "75UqnDAz2uny"
      },
      "execution_count": 40,
      "outputs": []
    },
    {
      "cell_type": "code",
      "source": [
        "model.compile(\n",
        "    optimizer = 'adam',\n",
        "    loss = 'sparse_categorical_crossentropy',\n",
        "    metrics = ['accuracy']\n",
        ")"
      ],
      "metadata": {
        "id": "JqjTQ2sB21O6"
      },
      "execution_count": 27,
      "outputs": []
    },
    {
      "cell_type": "code",
      "source": [
        "history = model.fit(\n",
        "    X_train,\n",
        "    y_train,\n",
        "    validation_split = 0.25,\n",
        "    batch_size = 32\n",
        "    epochs = 50\n",
        ")"
      ],
      "metadata": {
        "colab": {
          "base_uri": "https://localhost:8080/"
        },
        "id": "295rR22Q2iKj",
        "outputId": "faad505a-160c-43f4-e285-aa5723a72a7d"
      },
      "execution_count": 28,
      "outputs": [
        {
          "output_type": "stream",
          "name": "stdout",
          "text": [
            "Epoch 1/50\n",
            "1172/1172 [==============================] - 11s 7ms/step - loss: 1.9430 - accuracy: 0.2971 - val_loss: 1.8548 - val_accuracy: 0.3295\n",
            "Epoch 2/50\n",
            "1172/1172 [==============================] - 7s 6ms/step - loss: 1.7436 - accuracy: 0.3749 - val_loss: 1.6823 - val_accuracy: 0.4170\n",
            "Epoch 3/50\n",
            "1172/1172 [==============================] - 7s 6ms/step - loss: 1.6671 - accuracy: 0.4003 - val_loss: 1.8363 - val_accuracy: 0.3629\n",
            "Epoch 4/50\n",
            "1172/1172 [==============================] - 7s 6ms/step - loss: 1.6178 - accuracy: 0.4220 - val_loss: 1.6700 - val_accuracy: 0.4010\n",
            "Epoch 5/50\n",
            "1172/1172 [==============================] - 8s 7ms/step - loss: 1.5714 - accuracy: 0.4362 - val_loss: 1.5714 - val_accuracy: 0.4428\n",
            "Epoch 6/50\n",
            "1172/1172 [==============================] - 8s 6ms/step - loss: 1.5386 - accuracy: 0.4494 - val_loss: 1.5243 - val_accuracy: 0.4590\n",
            "Epoch 7/50\n",
            "1172/1172 [==============================] - 8s 7ms/step - loss: 1.5086 - accuracy: 0.4650 - val_loss: 1.4962 - val_accuracy: 0.4681\n",
            "Epoch 8/50\n",
            "1172/1172 [==============================] - 8s 6ms/step - loss: 1.4790 - accuracy: 0.4726 - val_loss: 1.5241 - val_accuracy: 0.4679\n",
            "Epoch 9/50\n",
            "1172/1172 [==============================] - 7s 6ms/step - loss: 1.4601 - accuracy: 0.4766 - val_loss: 1.5409 - val_accuracy: 0.4458\n",
            "Epoch 10/50\n",
            "1172/1172 [==============================] - 8s 7ms/step - loss: 1.4376 - accuracy: 0.4886 - val_loss: 1.5405 - val_accuracy: 0.4493\n",
            "Epoch 11/50\n",
            "1172/1172 [==============================] - 7s 6ms/step - loss: 1.4158 - accuracy: 0.4942 - val_loss: 1.4917 - val_accuracy: 0.4706\n",
            "Epoch 12/50\n",
            "1172/1172 [==============================] - 7s 6ms/step - loss: 1.4033 - accuracy: 0.5000 - val_loss: 1.4436 - val_accuracy: 0.4922\n",
            "Epoch 13/50\n",
            "1172/1172 [==============================] - 7s 6ms/step - loss: 1.3802 - accuracy: 0.5091 - val_loss: 1.4213 - val_accuracy: 0.5019\n",
            "Epoch 14/50\n",
            "1172/1172 [==============================] - 7s 6ms/step - loss: 1.3672 - accuracy: 0.5118 - val_loss: 1.3847 - val_accuracy: 0.5107\n",
            "Epoch 15/50\n",
            "1172/1172 [==============================] - 8s 7ms/step - loss: 1.3422 - accuracy: 0.5208 - val_loss: 1.4176 - val_accuracy: 0.5024\n",
            "Epoch 16/50\n",
            "1172/1172 [==============================] - 7s 6ms/step - loss: 1.3341 - accuracy: 0.5267 - val_loss: 1.3712 - val_accuracy: 0.5127\n",
            "Epoch 17/50\n",
            "1172/1172 [==============================] - 9s 8ms/step - loss: 1.3181 - accuracy: 0.5321 - val_loss: 1.3679 - val_accuracy: 0.5178\n",
            "Epoch 18/50\n",
            "1172/1172 [==============================] - 8s 7ms/step - loss: 1.3089 - accuracy: 0.5340 - val_loss: 1.3700 - val_accuracy: 0.5046\n",
            "Epoch 19/50\n",
            "1172/1172 [==============================] - 7s 6ms/step - loss: 1.2841 - accuracy: 0.5432 - val_loss: 1.3766 - val_accuracy: 0.5121\n",
            "Epoch 20/50\n",
            "1172/1172 [==============================] - 7s 6ms/step - loss: 1.2703 - accuracy: 0.5525 - val_loss: 1.3865 - val_accuracy: 0.5159\n",
            "Epoch 21/50\n",
            "1172/1172 [==============================] - 7s 6ms/step - loss: 1.2655 - accuracy: 0.5484 - val_loss: 1.3452 - val_accuracy: 0.5230\n",
            "Epoch 22/50\n",
            "1172/1172 [==============================] - 8s 7ms/step - loss: 1.2490 - accuracy: 0.5561 - val_loss: 1.3548 - val_accuracy: 0.5246\n",
            "Epoch 23/50\n",
            "1172/1172 [==============================] - 12s 10ms/step - loss: 1.2410 - accuracy: 0.5611 - val_loss: 1.3509 - val_accuracy: 0.5271\n",
            "Epoch 24/50\n",
            "1172/1172 [==============================] - 8s 7ms/step - loss: 1.2250 - accuracy: 0.5626 - val_loss: 1.3401 - val_accuracy: 0.5266\n",
            "Epoch 25/50\n",
            "1172/1172 [==============================] - 7s 6ms/step - loss: 1.2166 - accuracy: 0.5697 - val_loss: 1.4285 - val_accuracy: 0.4926\n",
            "Epoch 26/50\n",
            "1172/1172 [==============================] - 7s 6ms/step - loss: 1.2056 - accuracy: 0.5686 - val_loss: 1.3683 - val_accuracy: 0.5182\n",
            "Epoch 27/50\n",
            "1172/1172 [==============================] - 7s 6ms/step - loss: 1.1885 - accuracy: 0.5765 - val_loss: 1.3836 - val_accuracy: 0.5158\n",
            "Epoch 28/50\n",
            "1172/1172 [==============================] - 7s 6ms/step - loss: 1.1845 - accuracy: 0.5775 - val_loss: 1.3846 - val_accuracy: 0.5167\n",
            "Epoch 29/50\n",
            "1172/1172 [==============================] - 7s 6ms/step - loss: 1.1726 - accuracy: 0.5806 - val_loss: 1.3245 - val_accuracy: 0.5376\n",
            "Epoch 30/50\n",
            "1172/1172 [==============================] - 7s 6ms/step - loss: 1.1612 - accuracy: 0.5872 - val_loss: 1.3421 - val_accuracy: 0.5334\n",
            "Epoch 31/50\n",
            "1172/1172 [==============================] - 8s 7ms/step - loss: 1.1546 - accuracy: 0.5901 - val_loss: 1.3462 - val_accuracy: 0.5261\n",
            "Epoch 32/50\n",
            "1172/1172 [==============================] - 7s 6ms/step - loss: 1.1419 - accuracy: 0.5955 - val_loss: 1.3167 - val_accuracy: 0.5419\n",
            "Epoch 33/50\n",
            "1172/1172 [==============================] - 8s 7ms/step - loss: 1.1383 - accuracy: 0.5958 - val_loss: 1.3714 - val_accuracy: 0.5268\n",
            "Epoch 34/50\n",
            "1172/1172 [==============================] - 7s 6ms/step - loss: 1.1278 - accuracy: 0.5985 - val_loss: 1.3098 - val_accuracy: 0.5410\n",
            "Epoch 35/50\n",
            "1172/1172 [==============================] - 8s 6ms/step - loss: 1.1248 - accuracy: 0.5985 - val_loss: 1.2878 - val_accuracy: 0.5545\n",
            "Epoch 36/50\n",
            "1172/1172 [==============================] - 7s 6ms/step - loss: 1.1142 - accuracy: 0.6069 - val_loss: 1.3633 - val_accuracy: 0.5234\n",
            "Epoch 37/50\n",
            "1172/1172 [==============================] - 7s 6ms/step - loss: 1.0998 - accuracy: 0.6109 - val_loss: 1.3001 - val_accuracy: 0.5438\n",
            "Epoch 38/50\n",
            "1172/1172 [==============================] - 8s 7ms/step - loss: 1.0918 - accuracy: 0.6133 - val_loss: 1.2841 - val_accuracy: 0.5477\n",
            "Epoch 39/50\n",
            "1172/1172 [==============================] - 7s 6ms/step - loss: 1.0835 - accuracy: 0.6164 - val_loss: 1.3627 - val_accuracy: 0.5338\n",
            "Epoch 40/50\n",
            "1172/1172 [==============================] - 8s 7ms/step - loss: 1.0807 - accuracy: 0.6183 - val_loss: 1.3534 - val_accuracy: 0.5258\n",
            "Epoch 41/50\n",
            "1172/1172 [==============================] - 7s 6ms/step - loss: 1.0724 - accuracy: 0.6213 - val_loss: 1.3153 - val_accuracy: 0.5435\n",
            "Epoch 42/50\n",
            "1172/1172 [==============================] - 8s 7ms/step - loss: 1.0584 - accuracy: 0.6254 - val_loss: 1.4588 - val_accuracy: 0.5081\n",
            "Epoch 43/50\n",
            "1172/1172 [==============================] - 10s 8ms/step - loss: 1.0486 - accuracy: 0.6289 - val_loss: 1.3026 - val_accuracy: 0.5468\n",
            "Epoch 44/50\n",
            "1172/1172 [==============================] - 12s 10ms/step - loss: 1.0439 - accuracy: 0.6297 - val_loss: 1.3229 - val_accuracy: 0.5413\n",
            "Epoch 45/50\n",
            "1172/1172 [==============================] - 12s 10ms/step - loss: 1.0355 - accuracy: 0.6348 - val_loss: 1.3253 - val_accuracy: 0.5435\n",
            "Epoch 46/50\n",
            "1172/1172 [==============================] - 10s 8ms/step - loss: 1.0337 - accuracy: 0.6335 - val_loss: 1.3872 - val_accuracy: 0.5245\n",
            "Epoch 47/50\n",
            "1172/1172 [==============================] - 8s 7ms/step - loss: 1.0232 - accuracy: 0.6388 - val_loss: 1.3243 - val_accuracy: 0.5461\n",
            "Epoch 48/50\n",
            "1172/1172 [==============================] - 12s 10ms/step - loss: 1.0124 - accuracy: 0.6427 - val_loss: 1.3060 - val_accuracy: 0.5496\n",
            "Epoch 49/50\n",
            "1172/1172 [==============================] - 12s 10ms/step - loss: 1.0134 - accuracy: 0.6425 - val_loss: 1.3167 - val_accuracy: 0.5442\n",
            "Epoch 50/50\n",
            "1172/1172 [==============================] - 7s 6ms/step - loss: 1.0036 - accuracy: 0.6450 - val_loss: 1.3392 - val_accuracy: 0.5387\n"
          ]
        }
      ]
    },
    {
      "cell_type": "markdown",
      "source": [
        "### CNN으로 모델 짜기"
      ],
      "metadata": {
        "id": "YFOAckda4NWi"
      }
    },
    {
      "cell_type": "code",
      "source": [
        "X_train"
      ],
      "metadata": {
        "colab": {
          "base_uri": "https://localhost:8080/"
        },
        "id": "tluI6bX54y_q",
        "outputId": "b9ad631d-2704-429e-d240-2e6414cc075b"
      },
      "execution_count": 31,
      "outputs": [
        {
          "output_type": "execute_result",
          "data": {
            "text/plain": [
              "(array([[[[0.23137255, 0.24313725, 0.24705882],\n",
              "          [0.16862745, 0.18039216, 0.17647059],\n",
              "          [0.19607843, 0.18823529, 0.16862745],\n",
              "          ...,\n",
              "          [0.61960784, 0.51764706, 0.42352941],\n",
              "          [0.59607843, 0.49019608, 0.4       ],\n",
              "          [0.58039216, 0.48627451, 0.40392157]],\n",
              " \n",
              "         [[0.0627451 , 0.07843137, 0.07843137],\n",
              "          [0.        , 0.        , 0.        ],\n",
              "          [0.07058824, 0.03137255, 0.        ],\n",
              "          ...,\n",
              "          [0.48235294, 0.34509804, 0.21568627],\n",
              "          [0.46666667, 0.3254902 , 0.19607843],\n",
              "          [0.47843137, 0.34117647, 0.22352941]],\n",
              " \n",
              "         [[0.09803922, 0.09411765, 0.08235294],\n",
              "          [0.0627451 , 0.02745098, 0.        ],\n",
              "          [0.19215686, 0.10588235, 0.03137255],\n",
              "          ...,\n",
              "          [0.4627451 , 0.32941176, 0.19607843],\n",
              "          [0.47058824, 0.32941176, 0.19607843],\n",
              "          [0.42745098, 0.28627451, 0.16470588]],\n",
              " \n",
              "         ...,\n",
              " \n",
              "         [[0.81568627, 0.66666667, 0.37647059],\n",
              "          [0.78823529, 0.6       , 0.13333333],\n",
              "          [0.77647059, 0.63137255, 0.10196078],\n",
              "          ...,\n",
              "          [0.62745098, 0.52156863, 0.2745098 ],\n",
              "          [0.21960784, 0.12156863, 0.02745098],\n",
              "          [0.20784314, 0.13333333, 0.07843137]],\n",
              " \n",
              "         [[0.70588235, 0.54509804, 0.37647059],\n",
              "          [0.67843137, 0.48235294, 0.16470588],\n",
              "          [0.72941176, 0.56470588, 0.11764706],\n",
              "          ...,\n",
              "          [0.72156863, 0.58039216, 0.36862745],\n",
              "          [0.38039216, 0.24313725, 0.13333333],\n",
              "          [0.3254902 , 0.20784314, 0.13333333]],\n",
              " \n",
              "         [[0.69411765, 0.56470588, 0.45490196],\n",
              "          [0.65882353, 0.50588235, 0.36862745],\n",
              "          [0.70196078, 0.55686275, 0.34117647],\n",
              "          ...,\n",
              "          [0.84705882, 0.72156863, 0.54901961],\n",
              "          [0.59215686, 0.4627451 , 0.32941176],\n",
              "          [0.48235294, 0.36078431, 0.28235294]]],\n",
              " \n",
              " \n",
              "        [[[0.60392157, 0.69411765, 0.73333333],\n",
              "          [0.49411765, 0.5372549 , 0.53333333],\n",
              "          [0.41176471, 0.40784314, 0.37254902],\n",
              "          ...,\n",
              "          [0.35686275, 0.37254902, 0.27843137],\n",
              "          [0.34117647, 0.35294118, 0.27843137],\n",
              "          [0.30980392, 0.31764706, 0.2745098 ]],\n",
              " \n",
              "         [[0.54901961, 0.62745098, 0.6627451 ],\n",
              "          [0.56862745, 0.6       , 0.60392157],\n",
              "          [0.49019608, 0.49019608, 0.4627451 ],\n",
              "          ...,\n",
              "          [0.37647059, 0.38823529, 0.30588235],\n",
              "          [0.30196078, 0.31372549, 0.24313725],\n",
              "          [0.27843137, 0.28627451, 0.23921569]],\n",
              " \n",
              "         [[0.54901961, 0.60784314, 0.64313725],\n",
              "          [0.54509804, 0.57254902, 0.58431373],\n",
              "          [0.45098039, 0.45098039, 0.43921569],\n",
              "          ...,\n",
              "          [0.30980392, 0.32156863, 0.25098039],\n",
              "          [0.26666667, 0.2745098 , 0.21568627],\n",
              "          [0.2627451 , 0.27058824, 0.21568627]],\n",
              " \n",
              "         ...,\n",
              " \n",
              "         [[0.68627451, 0.65490196, 0.65098039],\n",
              "          [0.61176471, 0.60392157, 0.62745098],\n",
              "          [0.60392157, 0.62745098, 0.66666667],\n",
              "          ...,\n",
              "          [0.16470588, 0.13333333, 0.14117647],\n",
              "          [0.23921569, 0.20784314, 0.22352941],\n",
              "          [0.36470588, 0.3254902 , 0.35686275]],\n",
              " \n",
              "         [[0.64705882, 0.60392157, 0.50196078],\n",
              "          [0.61176471, 0.59607843, 0.50980392],\n",
              "          [0.62352941, 0.63137255, 0.55686275],\n",
              "          ...,\n",
              "          [0.40392157, 0.36470588, 0.37647059],\n",
              "          [0.48235294, 0.44705882, 0.47058824],\n",
              "          [0.51372549, 0.4745098 , 0.51372549]],\n",
              " \n",
              "         [[0.63921569, 0.58039216, 0.47058824],\n",
              "          [0.61960784, 0.58039216, 0.47843137],\n",
              "          [0.63921569, 0.61176471, 0.52156863],\n",
              "          ...,\n",
              "          [0.56078431, 0.52156863, 0.54509804],\n",
              "          [0.56078431, 0.5254902 , 0.55686275],\n",
              "          [0.56078431, 0.52156863, 0.56470588]]],\n",
              " \n",
              " \n",
              "        [[[1.        , 1.        , 1.        ],\n",
              "          [0.99215686, 0.99215686, 0.99215686],\n",
              "          [0.99215686, 0.99215686, 0.99215686],\n",
              "          ...,\n",
              "          [0.99215686, 0.99215686, 0.99215686],\n",
              "          [0.99215686, 0.99215686, 0.99215686],\n",
              "          [0.99215686, 0.99215686, 0.99215686]],\n",
              " \n",
              "         [[1.        , 1.        , 1.        ],\n",
              "          [1.        , 1.        , 1.        ],\n",
              "          [1.        , 1.        , 1.        ],\n",
              "          ...,\n",
              "          [1.        , 1.        , 1.        ],\n",
              "          [1.        , 1.        , 1.        ],\n",
              "          [1.        , 1.        , 1.        ]],\n",
              " \n",
              "         [[1.        , 1.        , 1.        ],\n",
              "          [0.99607843, 0.99607843, 0.99607843],\n",
              "          [0.99607843, 0.99607843, 0.99607843],\n",
              "          ...,\n",
              "          [0.99607843, 0.99607843, 0.99607843],\n",
              "          [0.99607843, 0.99607843, 0.99607843],\n",
              "          [0.99607843, 0.99607843, 0.99607843]],\n",
              " \n",
              "         ...,\n",
              " \n",
              "         [[0.44313725, 0.47058824, 0.43921569],\n",
              "          [0.43529412, 0.4627451 , 0.43529412],\n",
              "          [0.41176471, 0.43921569, 0.41568627],\n",
              "          ...,\n",
              "          [0.28235294, 0.31764706, 0.31372549],\n",
              "          [0.28235294, 0.31372549, 0.30980392],\n",
              "          [0.28235294, 0.31372549, 0.30980392]],\n",
              " \n",
              "         [[0.43529412, 0.4627451 , 0.43137255],\n",
              "          [0.40784314, 0.43529412, 0.40784314],\n",
              "          [0.38823529, 0.41568627, 0.38431373],\n",
              "          ...,\n",
              "          [0.26666667, 0.29411765, 0.28627451],\n",
              "          [0.2745098 , 0.29803922, 0.29411765],\n",
              "          [0.30588235, 0.32941176, 0.32156863]],\n",
              " \n",
              "         [[0.41568627, 0.44313725, 0.41176471],\n",
              "          [0.38823529, 0.41568627, 0.38431373],\n",
              "          [0.37254902, 0.4       , 0.36862745],\n",
              "          ...,\n",
              "          [0.30588235, 0.33333333, 0.3254902 ],\n",
              "          [0.30980392, 0.33333333, 0.3254902 ],\n",
              "          [0.31372549, 0.3372549 , 0.32941176]]],\n",
              " \n",
              " \n",
              "        ...,\n",
              " \n",
              " \n",
              "        [[[0.1372549 , 0.69803922, 0.92156863],\n",
              "          [0.15686275, 0.69019608, 0.9372549 ],\n",
              "          [0.16470588, 0.69019608, 0.94509804],\n",
              "          ...,\n",
              "          [0.38823529, 0.69411765, 0.85882353],\n",
              "          [0.30980392, 0.57647059, 0.77254902],\n",
              "          [0.34901961, 0.58039216, 0.74117647]],\n",
              " \n",
              "         [[0.22352941, 0.71372549, 0.91764706],\n",
              "          [0.17254902, 0.72156863, 0.98039216],\n",
              "          [0.19607843, 0.71764706, 0.94117647],\n",
              "          ...,\n",
              "          [0.61176471, 0.71372549, 0.78431373],\n",
              "          [0.55294118, 0.69411765, 0.80784314],\n",
              "          [0.45490196, 0.58431373, 0.68627451]],\n",
              " \n",
              "         [[0.38431373, 0.77254902, 0.92941176],\n",
              "          [0.25098039, 0.74117647, 0.98823529],\n",
              "          [0.27058824, 0.75294118, 0.96078431],\n",
              "          ...,\n",
              "          [0.7372549 , 0.76470588, 0.80784314],\n",
              "          [0.46666667, 0.52941176, 0.57647059],\n",
              "          [0.23921569, 0.30980392, 0.35294118]],\n",
              " \n",
              "         ...,\n",
              " \n",
              "         [[0.28627451, 0.30980392, 0.30196078],\n",
              "          [0.20784314, 0.24705882, 0.26666667],\n",
              "          [0.21176471, 0.26666667, 0.31372549],\n",
              "          ...,\n",
              "          [0.06666667, 0.15686275, 0.25098039],\n",
              "          [0.08235294, 0.14117647, 0.2       ],\n",
              "          [0.12941176, 0.18823529, 0.19215686]],\n",
              " \n",
              "         [[0.23921569, 0.26666667, 0.29411765],\n",
              "          [0.21568627, 0.2745098 , 0.3372549 ],\n",
              "          [0.22352941, 0.30980392, 0.40392157],\n",
              "          ...,\n",
              "          [0.09411765, 0.18823529, 0.28235294],\n",
              "          [0.06666667, 0.1372549 , 0.20784314],\n",
              "          [0.02745098, 0.09019608, 0.1254902 ]],\n",
              " \n",
              "         [[0.17254902, 0.21960784, 0.28627451],\n",
              "          [0.18039216, 0.25882353, 0.34509804],\n",
              "          [0.19215686, 0.30196078, 0.41176471],\n",
              "          ...,\n",
              "          [0.10588235, 0.20392157, 0.30196078],\n",
              "          [0.08235294, 0.16862745, 0.25882353],\n",
              "          [0.04705882, 0.12156863, 0.19607843]]],\n",
              " \n",
              " \n",
              "        [[[0.74117647, 0.82745098, 0.94117647],\n",
              "          [0.72941176, 0.81568627, 0.9254902 ],\n",
              "          [0.7254902 , 0.81176471, 0.92156863],\n",
              "          ...,\n",
              "          [0.68627451, 0.76470588, 0.87843137],\n",
              "          [0.6745098 , 0.76078431, 0.87058824],\n",
              "          [0.6627451 , 0.76078431, 0.8627451 ]],\n",
              " \n",
              "         [[0.76078431, 0.82352941, 0.9372549 ],\n",
              "          [0.74901961, 0.81176471, 0.9254902 ],\n",
              "          [0.74509804, 0.80784314, 0.92156863],\n",
              "          ...,\n",
              "          [0.67843137, 0.75294118, 0.8627451 ],\n",
              "          [0.67058824, 0.74901961, 0.85490196],\n",
              "          [0.65490196, 0.74509804, 0.84705882]],\n",
              " \n",
              "         [[0.81568627, 0.85882353, 0.95686275],\n",
              "          [0.80392157, 0.84705882, 0.94117647],\n",
              "          [0.8       , 0.84313725, 0.9372549 ],\n",
              "          ...,\n",
              "          [0.68627451, 0.74901961, 0.85098039],\n",
              "          [0.6745098 , 0.74509804, 0.84705882],\n",
              "          [0.6627451 , 0.74901961, 0.84313725]],\n",
              " \n",
              "         ...,\n",
              " \n",
              "         [[0.81176471, 0.78039216, 0.70980392],\n",
              "          [0.79607843, 0.76470588, 0.68627451],\n",
              "          [0.79607843, 0.76862745, 0.67843137],\n",
              "          ...,\n",
              "          [0.52941176, 0.51764706, 0.49803922],\n",
              "          [0.63529412, 0.61960784, 0.58823529],\n",
              "          [0.65882353, 0.63921569, 0.59215686]],\n",
              " \n",
              "         [[0.77647059, 0.74509804, 0.66666667],\n",
              "          [0.74117647, 0.70980392, 0.62352941],\n",
              "          [0.70588235, 0.6745098 , 0.57647059],\n",
              "          ...,\n",
              "          [0.69803922, 0.67058824, 0.62745098],\n",
              "          [0.68627451, 0.6627451 , 0.61176471],\n",
              "          [0.68627451, 0.6627451 , 0.60392157]],\n",
              " \n",
              "         [[0.77647059, 0.74117647, 0.67843137],\n",
              "          [0.74117647, 0.70980392, 0.63529412],\n",
              "          [0.69803922, 0.66666667, 0.58431373],\n",
              "          ...,\n",
              "          [0.76470588, 0.72156863, 0.6627451 ],\n",
              "          [0.76862745, 0.74117647, 0.67058824],\n",
              "          [0.76470588, 0.74509804, 0.67058824]]],\n",
              " \n",
              " \n",
              "        [[[0.89803922, 0.89803922, 0.9372549 ],\n",
              "          [0.9254902 , 0.92941176, 0.96862745],\n",
              "          [0.91764706, 0.9254902 , 0.96862745],\n",
              "          ...,\n",
              "          [0.85098039, 0.85882353, 0.91372549],\n",
              "          [0.86666667, 0.8745098 , 0.91764706],\n",
              "          [0.87058824, 0.8745098 , 0.91372549]],\n",
              " \n",
              "         [[0.87058824, 0.86666667, 0.89803922],\n",
              "          [0.9372549 , 0.9372549 , 0.97647059],\n",
              "          [0.91372549, 0.91764706, 0.96470588],\n",
              "          ...,\n",
              "          [0.8745098 , 0.8745098 , 0.9254902 ],\n",
              "          [0.89019608, 0.89411765, 0.93333333],\n",
              "          [0.82352941, 0.82745098, 0.8627451 ]],\n",
              " \n",
              "         [[0.83529412, 0.80784314, 0.82745098],\n",
              "          [0.91764706, 0.90980392, 0.9372549 ],\n",
              "          [0.90588235, 0.91372549, 0.95686275],\n",
              "          ...,\n",
              "          [0.8627451 , 0.8627451 , 0.90980392],\n",
              "          [0.8627451 , 0.85882353, 0.90980392],\n",
              "          [0.79215686, 0.79607843, 0.84313725]],\n",
              " \n",
              "         ...,\n",
              " \n",
              "         [[0.58823529, 0.56078431, 0.52941176],\n",
              "          [0.54901961, 0.52941176, 0.49803922],\n",
              "          [0.51764706, 0.49803922, 0.47058824],\n",
              "          ...,\n",
              "          [0.87843137, 0.87058824, 0.85490196],\n",
              "          [0.90196078, 0.89411765, 0.88235294],\n",
              "          [0.94509804, 0.94509804, 0.93333333]],\n",
              " \n",
              "         [[0.5372549 , 0.51764706, 0.49411765],\n",
              "          [0.50980392, 0.49803922, 0.47058824],\n",
              "          [0.49019608, 0.4745098 , 0.45098039],\n",
              "          ...,\n",
              "          [0.70980392, 0.70588235, 0.69803922],\n",
              "          [0.79215686, 0.78823529, 0.77647059],\n",
              "          [0.83137255, 0.82745098, 0.81176471]],\n",
              " \n",
              "         [[0.47843137, 0.46666667, 0.44705882],\n",
              "          [0.4627451 , 0.45490196, 0.43137255],\n",
              "          [0.47058824, 0.45490196, 0.43529412],\n",
              "          ...,\n",
              "          [0.70196078, 0.69411765, 0.67843137],\n",
              "          [0.64313725, 0.64313725, 0.63529412],\n",
              "          [0.63921569, 0.63921569, 0.63137255]]]]),)"
            ]
          },
          "metadata": {},
          "execution_count": 31
        }
      ]
    },
    {
      "cell_type": "code",
      "source": [
        "X_shape = X_train.shape\n",
        "X_shape"
      ],
      "metadata": {
        "colab": {
          "base_uri": "https://localhost:8080/"
        },
        "id": "9JqMJyPY4lUY",
        "outputId": "da2677b8-3087-4865-d8cf-73c46cb47fc3"
      },
      "execution_count": 43,
      "outputs": [
        {
          "output_type": "execute_result",
          "data": {
            "text/plain": [
              "(50000, 32, 32, 3)"
            ]
          },
          "metadata": {},
          "execution_count": 43
        }
      ]
    },
    {
      "cell_type": "code",
      "source": [],
      "metadata": {
        "id": "9w3mAwdI69Fy"
      },
      "execution_count": null,
      "outputs": []
    },
    {
      "cell_type": "code",
      "source": [
        "model = Sequential()\n",
        "model.add(tf.keras.layers.Conv2D(64, (3,3), activation = 'relu', input_shape = (X_shape[1:])))\n",
        "model.add(tf.keras.layers.MaxPool2D(2,2))\n",
        "model.add(tf.keras.layers.Conv2D(32, (3,3), activation = 'relu'))\n",
        "model.add(tf.keras.layers.MaxPool2D(2,2))\n",
        "model.add(tf.keras.layers.Conv2D(16, (3,3), activation = 'relu'))\n",
        "\n",
        "model.add(tf.keras.layers.Flatten())\n",
        "model.add(tf.keras.layers.BatchNormalization())\n",
        "model.add(tf.keras.layers.Dense(1024, kernel_initializer = 'he_uniform'))\n",
        "model.add(tf.keras.layers.ReLU())\n",
        "model.add(tf.keras.layers.Dropout(0.5))\n",
        "model.add(tf.keras.layers.Dense(256, kernel_initializer = 'he_uniform'))\n",
        "model.add(tf.keras.layers.BatchNormalization())\n",
        "model.add(tf.keras.layers.ReLU())\n",
        "model.add(tf.keras.layers.Dropout(0.25))\n",
        "model.add(tf.keras.layers.Dense(16, activation = 'relu', kernel_initializer = 'he_uniform'))\n",
        "model.add(tf.keras.layers.Dropout(0.1))\n",
        "model.add(tf.keras.layers.Dense(10, activation = 'softmax'))\n"
      ],
      "metadata": {
        "id": "vJH13yvi3ABv"
      },
      "execution_count": 47,
      "outputs": []
    },
    {
      "cell_type": "code",
      "source": [
        "model.compile(\n",
        "    optimizer = 'adam',\n",
        "    loss = 'sparse_categorical_crossentropy',\n",
        "    metrics = ['accuracy']\n",
        ")"
      ],
      "metadata": {
        "id": "P5RLhbuK6BV2"
      },
      "execution_count": 48,
      "outputs": []
    },
    {
      "cell_type": "code",
      "source": [
        "history = model.fit(\n",
        "    X_train,\n",
        "    y_train,\n",
        "    validation_split = 0.25,\n",
        "    batch_size = 32,\n",
        "    epochs = 50\n",
        ")"
      ],
      "metadata": {
        "colab": {
          "base_uri": "https://localhost:8080/"
        },
        "id": "hk4Bz67z6L8k",
        "outputId": "6b0c5928-4322-4d8d-d9be-c35b1ccbb4fc"
      },
      "execution_count": 50,
      "outputs": [
        {
          "output_type": "stream",
          "name": "stdout",
          "text": [
            "Epoch 1/50\n",
            "1172/1172 [==============================] - 18s 8ms/step - loss: 1.8477 - accuracy: 0.3195 - val_loss: 1.5785 - val_accuracy: 0.4331\n",
            "Epoch 2/50\n",
            "1172/1172 [==============================] - 12s 11ms/step - loss: 1.4866 - accuracy: 0.4592 - val_loss: 1.4139 - val_accuracy: 0.4928\n",
            "Epoch 3/50\n",
            "1172/1172 [==============================] - 12s 10ms/step - loss: 1.3508 - accuracy: 0.5151 - val_loss: 1.3834 - val_accuracy: 0.5122\n",
            "Epoch 4/50\n",
            "1172/1172 [==============================] - 16s 14ms/step - loss: 1.2766 - accuracy: 0.5459 - val_loss: 1.1763 - val_accuracy: 0.5858\n",
            "Epoch 5/50\n",
            "1172/1172 [==============================] - 15s 13ms/step - loss: 1.2075 - accuracy: 0.5706 - val_loss: 1.1874 - val_accuracy: 0.5787\n",
            "Epoch 6/50\n",
            "1172/1172 [==============================] - 11s 9ms/step - loss: 1.1560 - accuracy: 0.5951 - val_loss: 1.1327 - val_accuracy: 0.5980\n",
            "Epoch 7/50\n",
            "1172/1172 [==============================] - 13s 11ms/step - loss: 1.1128 - accuracy: 0.6092 - val_loss: 1.1455 - val_accuracy: 0.5965\n",
            "Epoch 8/50\n",
            "1172/1172 [==============================] - 11s 9ms/step - loss: 1.0676 - accuracy: 0.6273 - val_loss: 1.0356 - val_accuracy: 0.6367\n",
            "Epoch 9/50\n",
            "1172/1172 [==============================] - 13s 11ms/step - loss: 1.0341 - accuracy: 0.6402 - val_loss: 1.0553 - val_accuracy: 0.6278\n",
            "Epoch 10/50\n",
            "1172/1172 [==============================] - 13s 11ms/step - loss: 1.0069 - accuracy: 0.6494 - val_loss: 1.0968 - val_accuracy: 0.6168\n",
            "Epoch 11/50\n",
            "1172/1172 [==============================] - 10s 8ms/step - loss: 0.9810 - accuracy: 0.6593 - val_loss: 0.9257 - val_accuracy: 0.6737\n",
            "Epoch 12/50\n",
            "1172/1172 [==============================] - 10s 9ms/step - loss: 0.9485 - accuracy: 0.6709 - val_loss: 0.9183 - val_accuracy: 0.6789\n",
            "Epoch 13/50\n",
            "1172/1172 [==============================] - 11s 9ms/step - loss: 0.9249 - accuracy: 0.6807 - val_loss: 1.1030 - val_accuracy: 0.6287\n",
            "Epoch 14/50\n",
            "1172/1172 [==============================] - 13s 11ms/step - loss: 0.9133 - accuracy: 0.6830 - val_loss: 0.9363 - val_accuracy: 0.6710\n",
            "Epoch 15/50\n",
            "1172/1172 [==============================] - 13s 11ms/step - loss: 0.8933 - accuracy: 0.6931 - val_loss: 0.9823 - val_accuracy: 0.6678\n",
            "Epoch 16/50\n",
            "1172/1172 [==============================] - 10s 8ms/step - loss: 0.8828 - accuracy: 0.6951 - val_loss: 0.9131 - val_accuracy: 0.6836\n",
            "Epoch 17/50\n",
            "1172/1172 [==============================] - 12s 10ms/step - loss: 0.8591 - accuracy: 0.7044 - val_loss: 0.8666 - val_accuracy: 0.6991\n",
            "Epoch 18/50\n",
            "1172/1172 [==============================] - 11s 10ms/step - loss: 0.8499 - accuracy: 0.7076 - val_loss: 1.0267 - val_accuracy: 0.6584\n",
            "Epoch 19/50\n",
            "1172/1172 [==============================] - 9s 8ms/step - loss: 0.8300 - accuracy: 0.7143 - val_loss: 0.9031 - val_accuracy: 0.6847\n",
            "Epoch 20/50\n",
            "1172/1172 [==============================] - 9s 8ms/step - loss: 0.8154 - accuracy: 0.7173 - val_loss: 0.8270 - val_accuracy: 0.7198\n",
            "Epoch 21/50\n",
            "1172/1172 [==============================] - 11s 10ms/step - loss: 0.8052 - accuracy: 0.7222 - val_loss: 0.9185 - val_accuracy: 0.6846\n",
            "Epoch 22/50\n",
            "1172/1172 [==============================] - 13s 11ms/step - loss: 0.7960 - accuracy: 0.7260 - val_loss: 0.8266 - val_accuracy: 0.7196\n",
            "Epoch 23/50\n",
            "1172/1172 [==============================] - 10s 9ms/step - loss: 0.7853 - accuracy: 0.7282 - val_loss: 0.9368 - val_accuracy: 0.6789\n",
            "Epoch 24/50\n",
            "1172/1172 [==============================] - 10s 8ms/step - loss: 0.7725 - accuracy: 0.7307 - val_loss: 0.9188 - val_accuracy: 0.6894\n",
            "Epoch 25/50\n",
            "1172/1172 [==============================] - 13s 11ms/step - loss: 0.7602 - accuracy: 0.7387 - val_loss: 0.8645 - val_accuracy: 0.7060\n",
            "Epoch 26/50\n",
            "1172/1172 [==============================] - 9s 8ms/step - loss: 0.7469 - accuracy: 0.7414 - val_loss: 0.9957 - val_accuracy: 0.6647\n",
            "Epoch 27/50\n",
            "1172/1172 [==============================] - 9s 8ms/step - loss: 0.7433 - accuracy: 0.7423 - val_loss: 0.8597 - val_accuracy: 0.7049\n",
            "Epoch 28/50\n",
            "1172/1172 [==============================] - 10s 9ms/step - loss: 0.7308 - accuracy: 0.7486 - val_loss: 0.8171 - val_accuracy: 0.7271\n",
            "Epoch 29/50\n",
            "1172/1172 [==============================] - 10s 9ms/step - loss: 0.7230 - accuracy: 0.7517 - val_loss: 0.8772 - val_accuracy: 0.7033\n",
            "Epoch 30/50\n",
            "1172/1172 [==============================] - 9s 8ms/step - loss: 0.7083 - accuracy: 0.7538 - val_loss: 0.9239 - val_accuracy: 0.6911\n",
            "Epoch 31/50\n",
            "1172/1172 [==============================] - 9s 8ms/step - loss: 0.7032 - accuracy: 0.7574 - val_loss: 0.9284 - val_accuracy: 0.6929\n",
            "Epoch 32/50\n",
            "1172/1172 [==============================] - 10s 8ms/step - loss: 0.6881 - accuracy: 0.7626 - val_loss: 0.8443 - val_accuracy: 0.7137\n",
            "Epoch 33/50\n",
            "1172/1172 [==============================] - 9s 8ms/step - loss: 0.6877 - accuracy: 0.7622 - val_loss: 0.8209 - val_accuracy: 0.7230\n",
            "Epoch 34/50\n",
            "1172/1172 [==============================] - 10s 8ms/step - loss: 0.6800 - accuracy: 0.7675 - val_loss: 0.8251 - val_accuracy: 0.7159\n",
            "Epoch 35/50\n",
            "1172/1172 [==============================] - 11s 10ms/step - loss: 0.6731 - accuracy: 0.7649 - val_loss: 0.8560 - val_accuracy: 0.7146\n",
            "Epoch 36/50\n",
            "1172/1172 [==============================] - 9s 8ms/step - loss: 0.6561 - accuracy: 0.7710 - val_loss: 0.8803 - val_accuracy: 0.7005\n",
            "Epoch 37/50\n",
            "1172/1172 [==============================] - 10s 8ms/step - loss: 0.6602 - accuracy: 0.7736 - val_loss: 0.8383 - val_accuracy: 0.7229\n",
            "Epoch 38/50\n",
            "1172/1172 [==============================] - 10s 8ms/step - loss: 0.6454 - accuracy: 0.7786 - val_loss: 0.8635 - val_accuracy: 0.7099\n",
            "Epoch 39/50\n",
            "1172/1172 [==============================] - 9s 8ms/step - loss: 0.6433 - accuracy: 0.7780 - val_loss: 0.8386 - val_accuracy: 0.7209\n",
            "Epoch 40/50\n",
            "1172/1172 [==============================] - 9s 8ms/step - loss: 0.6366 - accuracy: 0.7809 - val_loss: 0.9680 - val_accuracy: 0.6750\n",
            "Epoch 41/50\n",
            "1172/1172 [==============================] - 10s 8ms/step - loss: 0.6336 - accuracy: 0.7809 - val_loss: 0.9299 - val_accuracy: 0.6913\n",
            "Epoch 42/50\n",
            "1172/1172 [==============================] - 9s 8ms/step - loss: 0.6224 - accuracy: 0.7861 - val_loss: 0.9128 - val_accuracy: 0.7001\n",
            "Epoch 43/50\n",
            "1172/1172 [==============================] - 9s 8ms/step - loss: 0.6188 - accuracy: 0.7867 - val_loss: 0.8897 - val_accuracy: 0.7156\n",
            "Epoch 44/50\n",
            "1172/1172 [==============================] - 9s 8ms/step - loss: 0.6167 - accuracy: 0.7859 - val_loss: 0.9140 - val_accuracy: 0.7015\n",
            "Epoch 45/50\n",
            "1172/1172 [==============================] - 9s 8ms/step - loss: 0.6060 - accuracy: 0.7917 - val_loss: 0.8593 - val_accuracy: 0.7162\n",
            "Epoch 46/50\n",
            "1172/1172 [==============================] - 10s 8ms/step - loss: 0.6071 - accuracy: 0.7923 - val_loss: 0.8280 - val_accuracy: 0.7281\n",
            "Epoch 47/50\n",
            "1172/1172 [==============================] - 11s 9ms/step - loss: 0.5950 - accuracy: 0.7935 - val_loss: 0.8252 - val_accuracy: 0.7217\n",
            "Epoch 48/50\n",
            "1172/1172 [==============================] - 10s 8ms/step - loss: 0.5913 - accuracy: 0.7963 - val_loss: 0.9127 - val_accuracy: 0.7003\n",
            "Epoch 49/50\n",
            "1172/1172 [==============================] - 9s 8ms/step - loss: 0.5861 - accuracy: 0.7983 - val_loss: 0.9435 - val_accuracy: 0.7026\n",
            "Epoch 50/50\n",
            "1172/1172 [==============================] - 9s 8ms/step - loss: 0.5862 - accuracy: 0.8010 - val_loss: 0.8076 - val_accuracy: 0.7356\n"
          ]
        }
      ]
    },
    {
      "cell_type": "code",
      "source": [
        "import matplotlib.pyplot as plt\n",
        "\n",
        "n = len(history.history['accuracy'])\n",
        "plt.plot(range(n), history.history['accuracy'], label = 'accuracy')\n",
        "plt.plot(range(n), history.history['val_accuracy'], label = 'val_accuracy')\n",
        "\n",
        "plt.xlabel('epochs')\n",
        "plt.ylabel('accuracy')\n",
        "plt.legend(loc = 'lower right')\n",
        "\n",
        "plt.show()"
      ],
      "metadata": {
        "colab": {
          "base_uri": "https://localhost:8080/",
          "height": 279
        },
        "id": "TZox0h8q7H0K",
        "outputId": "3c2dd7d8-32a9-45fa-def0-7752e00139a6"
      },
      "execution_count": 53,
      "outputs": [
        {
          "output_type": "display_data",
          "data": {
            "text/plain": [
              "<Figure size 432x288 with 1 Axes>"
            ],
            "image/png": "[encoded data removed]"
          },
          "metadata": {
            "needs_background": "light"
          }
        }
      ]
    },
    {
      "cell_type": "code",
      "source": [],
      "metadata": {
        "id": "4ycd4Pvb8MSC"
      },
      "execution_count": null,
      "outputs": []
    }
  ]
}